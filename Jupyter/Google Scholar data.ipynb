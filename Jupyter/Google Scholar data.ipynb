{
 "cells": [
  {
   "cell_type": "code",
   "execution_count": null,
   "id": "35474dde",
   "metadata": {
    "ExecuteTime": {
     "start_time": "2023-05-06T19:32:48.291Z"
    }
   },
   "outputs": [
    {
     "name": "stdout",
     "output_type": "stream",
     "text": [
      "fail\n",
      "fail\n",
      "fail\n",
      "fail\n",
      "fail\n",
      "fail\n",
      "fail\n"
     ]
    }
   ],
   "source": [
    "a = 1\n",
    "while a==1:\n",
    "    try:\n",
    "        from scholarly import scholarly        \n",
    "        a += 1\n",
    "    except:        \n",
    "        print('fail')       \n",
    "        \n",
    "import pandas as pd\n",
    "from tqdm.notebook import tqdm\n",
    "\n"
   ]
  },
  {
   "cell_type": "code",
   "execution_count": 1,
   "id": "bcf111f1",
   "metadata": {
    "ExecuteTime": {
     "end_time": "2023-05-06T19:40:14.509283Z",
     "start_time": "2023-05-06T19:40:09.551950Z"
    }
   },
   "outputs": [
    {
     "ename": "FakeUserAgentError",
     "evalue": "Maximum amount of retries reached",
     "output_type": "error",
     "traceback": [
      "\u001b[1;31m---------------------------------------------------------------------------\u001b[0m",
      "\u001b[1;31mIndexError\u001b[0m                                Traceback (most recent call last)",
      "File \u001b[1;32m~\\anaconda3\\lib\\site-packages\\fake_useragent\\utils.py:154\u001b[0m, in \u001b[0;36mload\u001b[1;34m(use_cache_server, verify_ssl)\u001b[0m\n\u001b[0;32m    153\u001b[0m \u001b[38;5;28;01mtry\u001b[39;00m:\n\u001b[1;32m--> 154\u001b[0m     \u001b[38;5;28;01mfor\u001b[39;00m item \u001b[38;5;129;01min\u001b[39;00m \u001b[43mget_browsers\u001b[49m\u001b[43m(\u001b[49m\u001b[43mverify_ssl\u001b[49m\u001b[38;5;241;43m=\u001b[39;49m\u001b[43mverify_ssl\u001b[49m\u001b[43m)\u001b[49m:\n\u001b[0;32m    155\u001b[0m         browser, percent \u001b[38;5;241m=\u001b[39m item\n",
      "File \u001b[1;32m~\\anaconda3\\lib\\site-packages\\fake_useragent\\utils.py:99\u001b[0m, in \u001b[0;36mget_browsers\u001b[1;34m(verify_ssl)\u001b[0m\n\u001b[0;32m     98\u001b[0m html \u001b[38;5;241m=\u001b[39m html\u001b[38;5;241m.\u001b[39mdecode(\u001b[38;5;124m'\u001b[39m\u001b[38;5;124mutf-8\u001b[39m\u001b[38;5;124m'\u001b[39m)\n\u001b[1;32m---> 99\u001b[0m html \u001b[38;5;241m=\u001b[39m \u001b[43mhtml\u001b[49m\u001b[38;5;241;43m.\u001b[39;49m\u001b[43msplit\u001b[49m\u001b[43m(\u001b[49m\u001b[38;5;124;43m'\u001b[39;49m\u001b[38;5;124;43m<table class=\u001b[39;49m\u001b[38;5;124;43m\"\u001b[39;49m\u001b[38;5;124;43mw3-table-all notranslate\u001b[39;49m\u001b[38;5;124;43m\"\u001b[39;49m\u001b[38;5;124;43m>\u001b[39;49m\u001b[38;5;124;43m'\u001b[39;49m\u001b[43m)\u001b[49m\u001b[43m[\u001b[49m\u001b[38;5;241;43m1\u001b[39;49m\u001b[43m]\u001b[49m\n\u001b[0;32m    100\u001b[0m html \u001b[38;5;241m=\u001b[39m html\u001b[38;5;241m.\u001b[39msplit(\u001b[38;5;124m'\u001b[39m\u001b[38;5;124m</table>\u001b[39m\u001b[38;5;124m'\u001b[39m)[\u001b[38;5;241m0\u001b[39m]\n",
      "\u001b[1;31mIndexError\u001b[0m: list index out of range",
      "\nDuring handling of the above exception, another exception occurred:\n",
      "\u001b[1;31mHTTPError\u001b[0m                                 Traceback (most recent call last)",
      "File \u001b[1;32m~\\anaconda3\\lib\\site-packages\\fake_useragent\\utils.py:64\u001b[0m, in \u001b[0;36mget\u001b[1;34m(url, verify_ssl)\u001b[0m\n\u001b[0;32m     62\u001b[0m     context \u001b[38;5;241m=\u001b[39m \u001b[38;5;28;01mNone\u001b[39;00m\n\u001b[1;32m---> 64\u001b[0m \u001b[38;5;28;01mwith\u001b[39;00m contextlib\u001b[38;5;241m.\u001b[39mclosing(\u001b[43murlopen\u001b[49m\u001b[43m(\u001b[49m\n\u001b[0;32m     65\u001b[0m \u001b[43m    \u001b[49m\u001b[43mrequest\u001b[49m\u001b[43m,\u001b[49m\n\u001b[0;32m     66\u001b[0m \u001b[43m    \u001b[49m\u001b[43mtimeout\u001b[49m\u001b[38;5;241;43m=\u001b[39;49m\u001b[43msettings\u001b[49m\u001b[38;5;241;43m.\u001b[39;49m\u001b[43mHTTP_TIMEOUT\u001b[49m\u001b[43m,\u001b[49m\n\u001b[0;32m     67\u001b[0m \u001b[43m    \u001b[49m\u001b[43mcontext\u001b[49m\u001b[38;5;241;43m=\u001b[39;49m\u001b[43mcontext\u001b[49m\u001b[43m,\u001b[49m\n\u001b[0;32m     68\u001b[0m \u001b[43m\u001b[49m\u001b[43m)\u001b[49m) \u001b[38;5;28;01mas\u001b[39;00m response:\n\u001b[0;32m     69\u001b[0m     \u001b[38;5;28;01mreturn\u001b[39;00m response\u001b[38;5;241m.\u001b[39mread()\n",
      "File \u001b[1;32m~\\anaconda3\\lib\\urllib\\request.py:214\u001b[0m, in \u001b[0;36murlopen\u001b[1;34m(url, data, timeout, cafile, capath, cadefault, context)\u001b[0m\n\u001b[0;32m    213\u001b[0m     opener \u001b[38;5;241m=\u001b[39m _opener\n\u001b[1;32m--> 214\u001b[0m \u001b[38;5;28;01mreturn\u001b[39;00m \u001b[43mopener\u001b[49m\u001b[38;5;241;43m.\u001b[39;49m\u001b[43mopen\u001b[49m\u001b[43m(\u001b[49m\u001b[43murl\u001b[49m\u001b[43m,\u001b[49m\u001b[43m \u001b[49m\u001b[43mdata\u001b[49m\u001b[43m,\u001b[49m\u001b[43m \u001b[49m\u001b[43mtimeout\u001b[49m\u001b[43m)\u001b[49m\n",
      "File \u001b[1;32m~\\anaconda3\\lib\\urllib\\request.py:523\u001b[0m, in \u001b[0;36mOpenerDirector.open\u001b[1;34m(self, fullurl, data, timeout)\u001b[0m\n\u001b[0;32m    522\u001b[0m     meth \u001b[38;5;241m=\u001b[39m \u001b[38;5;28mgetattr\u001b[39m(processor, meth_name)\n\u001b[1;32m--> 523\u001b[0m     response \u001b[38;5;241m=\u001b[39m \u001b[43mmeth\u001b[49m\u001b[43m(\u001b[49m\u001b[43mreq\u001b[49m\u001b[43m,\u001b[49m\u001b[43m \u001b[49m\u001b[43mresponse\u001b[49m\u001b[43m)\u001b[49m\n\u001b[0;32m    525\u001b[0m \u001b[38;5;28;01mreturn\u001b[39;00m response\n",
      "File \u001b[1;32m~\\anaconda3\\lib\\urllib\\request.py:632\u001b[0m, in \u001b[0;36mHTTPErrorProcessor.http_response\u001b[1;34m(self, request, response)\u001b[0m\n\u001b[0;32m    631\u001b[0m \u001b[38;5;28;01mif\u001b[39;00m \u001b[38;5;129;01mnot\u001b[39;00m (\u001b[38;5;241m200\u001b[39m \u001b[38;5;241m<\u001b[39m\u001b[38;5;241m=\u001b[39m code \u001b[38;5;241m<\u001b[39m \u001b[38;5;241m300\u001b[39m):\n\u001b[1;32m--> 632\u001b[0m     response \u001b[38;5;241m=\u001b[39m \u001b[38;5;28;43mself\u001b[39;49m\u001b[38;5;241;43m.\u001b[39;49m\u001b[43mparent\u001b[49m\u001b[38;5;241;43m.\u001b[39;49m\u001b[43merror\u001b[49m\u001b[43m(\u001b[49m\n\u001b[0;32m    633\u001b[0m \u001b[43m        \u001b[49m\u001b[38;5;124;43m'\u001b[39;49m\u001b[38;5;124;43mhttp\u001b[39;49m\u001b[38;5;124;43m'\u001b[39;49m\u001b[43m,\u001b[49m\u001b[43m \u001b[49m\u001b[43mrequest\u001b[49m\u001b[43m,\u001b[49m\u001b[43m \u001b[49m\u001b[43mresponse\u001b[49m\u001b[43m,\u001b[49m\u001b[43m \u001b[49m\u001b[43mcode\u001b[49m\u001b[43m,\u001b[49m\u001b[43m \u001b[49m\u001b[43mmsg\u001b[49m\u001b[43m,\u001b[49m\u001b[43m \u001b[49m\u001b[43mhdrs\u001b[49m\u001b[43m)\u001b[49m\n\u001b[0;32m    635\u001b[0m \u001b[38;5;28;01mreturn\u001b[39;00m response\n",
      "File \u001b[1;32m~\\anaconda3\\lib\\urllib\\request.py:561\u001b[0m, in \u001b[0;36mOpenerDirector.error\u001b[1;34m(self, proto, *args)\u001b[0m\n\u001b[0;32m    560\u001b[0m args \u001b[38;5;241m=\u001b[39m (\u001b[38;5;28mdict\u001b[39m, \u001b[38;5;124m'\u001b[39m\u001b[38;5;124mdefault\u001b[39m\u001b[38;5;124m'\u001b[39m, \u001b[38;5;124m'\u001b[39m\u001b[38;5;124mhttp_error_default\u001b[39m\u001b[38;5;124m'\u001b[39m) \u001b[38;5;241m+\u001b[39m orig_args\n\u001b[1;32m--> 561\u001b[0m \u001b[38;5;28;01mreturn\u001b[39;00m \u001b[38;5;28;43mself\u001b[39;49m\u001b[38;5;241;43m.\u001b[39;49m\u001b[43m_call_chain\u001b[49m\u001b[43m(\u001b[49m\u001b[38;5;241;43m*\u001b[39;49m\u001b[43margs\u001b[49m\u001b[43m)\u001b[49m\n",
      "File \u001b[1;32m~\\anaconda3\\lib\\urllib\\request.py:494\u001b[0m, in \u001b[0;36mOpenerDirector._call_chain\u001b[1;34m(self, chain, kind, meth_name, *args)\u001b[0m\n\u001b[0;32m    493\u001b[0m func \u001b[38;5;241m=\u001b[39m \u001b[38;5;28mgetattr\u001b[39m(handler, meth_name)\n\u001b[1;32m--> 494\u001b[0m result \u001b[38;5;241m=\u001b[39m \u001b[43mfunc\u001b[49m\u001b[43m(\u001b[49m\u001b[38;5;241;43m*\u001b[39;49m\u001b[43margs\u001b[49m\u001b[43m)\u001b[49m\n\u001b[0;32m    495\u001b[0m \u001b[38;5;28;01mif\u001b[39;00m result \u001b[38;5;129;01mis\u001b[39;00m \u001b[38;5;129;01mnot\u001b[39;00m \u001b[38;5;28;01mNone\u001b[39;00m:\n",
      "File \u001b[1;32m~\\anaconda3\\lib\\urllib\\request.py:641\u001b[0m, in \u001b[0;36mHTTPDefaultErrorHandler.http_error_default\u001b[1;34m(self, req, fp, code, msg, hdrs)\u001b[0m\n\u001b[0;32m    640\u001b[0m \u001b[38;5;28;01mdef\u001b[39;00m \u001b[38;5;21mhttp_error_default\u001b[39m(\u001b[38;5;28mself\u001b[39m, req, fp, code, msg, hdrs):\n\u001b[1;32m--> 641\u001b[0m     \u001b[38;5;28;01mraise\u001b[39;00m HTTPError(req\u001b[38;5;241m.\u001b[39mfull_url, code, msg, hdrs, fp)\n",
      "\u001b[1;31mHTTPError\u001b[0m: HTTP Error 503: Service Unavailable",
      "\nDuring handling of the above exception, another exception occurred:\n",
      "\u001b[1;31mFakeUserAgentError\u001b[0m                        Traceback (most recent call last)",
      "Input \u001b[1;32mIn [1]\u001b[0m, in \u001b[0;36m<cell line: 1>\u001b[1;34m()\u001b[0m\n\u001b[1;32m----> 1\u001b[0m \u001b[38;5;28;01mfrom\u001b[39;00m \u001b[38;5;21;01mscholarly\u001b[39;00m \u001b[38;5;28;01mimport\u001b[39;00m ProxyGenerator\n\u001b[0;32m      3\u001b[0m \u001b[38;5;66;03m# Set up a ProxyGenerator object to use free proxies\u001b[39;00m\n\u001b[0;32m      4\u001b[0m \u001b[38;5;66;03m# This needs to be done only once per session\u001b[39;00m\n\u001b[0;32m      5\u001b[0m pg \u001b[38;5;241m=\u001b[39m ProxyGenerator()\n",
      "File \u001b[1;32m~\\anaconda3\\lib\\site-packages\\scholarly\\__init__.py:4\u001b[0m, in \u001b[0;36m<module>\u001b[1;34m\u001b[0m\n\u001b[0;32m      2\u001b[0m \u001b[38;5;28;01mfrom\u001b[39;00m \u001b[38;5;21;01m.\u001b[39;00m\u001b[38;5;21;01mdata_types\u001b[39;00m \u001b[38;5;28;01mimport\u001b[39;00m Author, Publication\n\u001b[0;32m      3\u001b[0m \u001b[38;5;28;01mfrom\u001b[39;00m \u001b[38;5;21;01m.\u001b[39;00m\u001b[38;5;21;01m_proxy_generator\u001b[39;00m \u001b[38;5;28;01mimport\u001b[39;00m ProxyGenerator, DOSException, MaxTriesExceededException\n\u001b[1;32m----> 4\u001b[0m scholarly \u001b[38;5;241m=\u001b[39m \u001b[43m_Scholarly\u001b[49m\u001b[43m(\u001b[49m\u001b[43m)\u001b[49m\n",
      "File \u001b[1;32m~\\anaconda3\\lib\\site-packages\\scholarly\\_scholarly.py:34\u001b[0m, in \u001b[0;36m_Scholarly.__init__\u001b[1;34m(self)\u001b[0m\n\u001b[0;32m     32\u001b[0m load_dotenv(find_dotenv())\n\u001b[0;32m     33\u001b[0m \u001b[38;5;28mself\u001b[39m\u001b[38;5;241m.\u001b[39menv \u001b[38;5;241m=\u001b[39m os\u001b[38;5;241m.\u001b[39menviron\u001b[38;5;241m.\u001b[39mcopy()\n\u001b[1;32m---> 34\u001b[0m \u001b[38;5;28mself\u001b[39m\u001b[38;5;241m.\u001b[39m__nav \u001b[38;5;241m=\u001b[39m \u001b[43mNavigator\u001b[49m\u001b[43m(\u001b[49m\u001b[43m)\u001b[49m\n\u001b[0;32m     35\u001b[0m \u001b[38;5;28mself\u001b[39m\u001b[38;5;241m.\u001b[39mlogger \u001b[38;5;241m=\u001b[39m \u001b[38;5;28mself\u001b[39m\u001b[38;5;241m.\u001b[39m__nav\u001b[38;5;241m.\u001b[39mlogger\n\u001b[0;32m     36\u001b[0m \u001b[38;5;28mself\u001b[39m\u001b[38;5;241m.\u001b[39m_journal_categories \u001b[38;5;241m=\u001b[39m \u001b[38;5;28;01mNone\u001b[39;00m\n",
      "File \u001b[1;32m~\\anaconda3\\lib\\site-packages\\scholarly\\_navigator.py:27\u001b[0m, in \u001b[0;36mSingleton.__call__\u001b[1;34m(cls, *args, **kwargs)\u001b[0m\n\u001b[0;32m     25\u001b[0m \u001b[38;5;28;01mdef\u001b[39;00m \u001b[38;5;21m__call__\u001b[39m(\u001b[38;5;28mcls\u001b[39m, \u001b[38;5;241m*\u001b[39margs, \u001b[38;5;241m*\u001b[39m\u001b[38;5;241m*\u001b[39mkwargs):\n\u001b[0;32m     26\u001b[0m     \u001b[38;5;28;01mif\u001b[39;00m \u001b[38;5;28mcls\u001b[39m \u001b[38;5;129;01mnot\u001b[39;00m \u001b[38;5;129;01min\u001b[39;00m \u001b[38;5;28mcls\u001b[39m\u001b[38;5;241m.\u001b[39m_instances:\n\u001b[1;32m---> 27\u001b[0m         \u001b[38;5;28mcls\u001b[39m\u001b[38;5;241m.\u001b[39m_instances[\u001b[38;5;28mcls\u001b[39m] \u001b[38;5;241m=\u001b[39m \u001b[38;5;28msuper\u001b[39m(Singleton, \u001b[38;5;28mcls\u001b[39m)\u001b[38;5;241m.\u001b[39m\u001b[38;5;21m__call__\u001b[39m(\u001b[38;5;241m*\u001b[39margs,\n\u001b[0;32m     28\u001b[0m                                                              \u001b[38;5;241m*\u001b[39m\u001b[38;5;241m*\u001b[39mkwargs)\n\u001b[0;32m     29\u001b[0m     \u001b[38;5;28;01mreturn\u001b[39;00m \u001b[38;5;28mcls\u001b[39m\u001b[38;5;241m.\u001b[39m_instances[\u001b[38;5;28mcls\u001b[39m]\n",
      "File \u001b[1;32m~\\anaconda3\\lib\\site-packages\\scholarly\\_navigator.py:43\u001b[0m, in \u001b[0;36mNavigator.__init__\u001b[1;34m(self)\u001b[0m\n\u001b[0;32m     39\u001b[0m \u001b[38;5;28mself\u001b[39m\u001b[38;5;241m.\u001b[39m_max_retries \u001b[38;5;241m=\u001b[39m \u001b[38;5;241m5\u001b[39m\n\u001b[0;32m     40\u001b[0m \u001b[38;5;66;03m# A Navigator instance has two proxy managers, each with their session.\u001b[39;00m\n\u001b[0;32m     41\u001b[0m \u001b[38;5;66;03m# `pm1` manages the primary, premium proxy.\u001b[39;00m\n\u001b[0;32m     42\u001b[0m \u001b[38;5;66;03m# `pm2` manages the secondary, inexpensive proxy.\u001b[39;00m\n\u001b[1;32m---> 43\u001b[0m \u001b[38;5;28mself\u001b[39m\u001b[38;5;241m.\u001b[39mpm1 \u001b[38;5;241m=\u001b[39m \u001b[43mProxyGenerator\u001b[49m\u001b[43m(\u001b[49m\u001b[43m)\u001b[49m\n\u001b[0;32m     44\u001b[0m \u001b[38;5;28mself\u001b[39m\u001b[38;5;241m.\u001b[39mpm2 \u001b[38;5;241m=\u001b[39m ProxyGenerator()\n\u001b[0;32m     45\u001b[0m \u001b[38;5;28mself\u001b[39m\u001b[38;5;241m.\u001b[39m_session1 \u001b[38;5;241m=\u001b[39m \u001b[38;5;28mself\u001b[39m\u001b[38;5;241m.\u001b[39mpm1\u001b[38;5;241m.\u001b[39mget_session()\n",
      "File \u001b[1;32m~\\anaconda3\\lib\\site-packages\\scholarly\\_proxy_generator.py:62\u001b[0m, in \u001b[0;36mProxyGenerator.__init__\u001b[1;34m(self)\u001b[0m\n\u001b[0;32m     60\u001b[0m \u001b[38;5;28mself\u001b[39m\u001b[38;5;241m.\u001b[39m_webdriver \u001b[38;5;241m=\u001b[39m \u001b[38;5;28;01mNone\u001b[39;00m\n\u001b[0;32m     61\u001b[0m \u001b[38;5;28mself\u001b[39m\u001b[38;5;241m.\u001b[39m_TIMEOUT \u001b[38;5;241m=\u001b[39m \u001b[38;5;241m5\u001b[39m\n\u001b[1;32m---> 62\u001b[0m \u001b[38;5;28;43mself\u001b[39;49m\u001b[38;5;241;43m.\u001b[39;49m\u001b[43m_new_session\u001b[49m\u001b[43m(\u001b[49m\u001b[43m)\u001b[49m\n",
      "File \u001b[1;32m~\\anaconda3\\lib\\site-packages\\scholarly\\_proxy_generator.py:466\u001b[0m, in \u001b[0;36mProxyGenerator._new_session\u001b[1;34m(self, **kwargs)\u001b[0m\n\u001b[0;32m    463\u001b[0m \u001b[38;5;28;01mif\u001b[39;00m FAKE_USERAGENT:\n\u001b[0;32m    464\u001b[0m     \u001b[38;5;66;03m# Suppress the misleading traceback from UserAgent()\u001b[39;00m\n\u001b[0;32m    465\u001b[0m     \u001b[38;5;28;01mwith\u001b[39;00m \u001b[38;5;28mself\u001b[39m\u001b[38;5;241m.\u001b[39m_suppress_logger(\u001b[38;5;124m'\u001b[39m\u001b[38;5;124mfake_useragent\u001b[39m\u001b[38;5;124m'\u001b[39m):\n\u001b[1;32m--> 466\u001b[0m         user_agent \u001b[38;5;241m=\u001b[39m \u001b[43mUserAgent\u001b[49m\u001b[43m(\u001b[49m\u001b[43m)\u001b[49m\u001b[38;5;241m.\u001b[39mrandom\n\u001b[0;32m    467\u001b[0m \u001b[38;5;28;01melse\u001b[39;00m:\n\u001b[0;32m    468\u001b[0m     user_agent \u001b[38;5;241m=\u001b[39m DEFAULT_USER_AGENT\n",
      "File \u001b[1;32m~\\anaconda3\\lib\\site-packages\\fake_useragent\\fake.py:69\u001b[0m, in \u001b[0;36mFakeUserAgent.__init__\u001b[1;34m(self, cache, use_cache_server, path, fallback, verify_ssl, safe_attrs)\u001b[0m\n\u001b[0;32m     66\u001b[0m \u001b[38;5;28mself\u001b[39m\u001b[38;5;241m.\u001b[39mdata_randomize \u001b[38;5;241m=\u001b[39m []\n\u001b[0;32m     67\u001b[0m \u001b[38;5;28mself\u001b[39m\u001b[38;5;241m.\u001b[39mdata_browsers \u001b[38;5;241m=\u001b[39m {}\n\u001b[1;32m---> 69\u001b[0m \u001b[38;5;28;43mself\u001b[39;49m\u001b[38;5;241;43m.\u001b[39;49m\u001b[43mload\u001b[49m\u001b[43m(\u001b[49m\u001b[43m)\u001b[49m\n",
      "File \u001b[1;32m~\\anaconda3\\lib\\site-packages\\fake_useragent\\fake.py:75\u001b[0m, in \u001b[0;36mFakeUserAgent.load\u001b[1;34m(self)\u001b[0m\n\u001b[0;32m     73\u001b[0m \u001b[38;5;28;01mwith\u001b[39;00m \u001b[38;5;28mself\u001b[39m\u001b[38;5;241m.\u001b[39mload\u001b[38;5;241m.\u001b[39mlock:\n\u001b[0;32m     74\u001b[0m     \u001b[38;5;28;01mif\u001b[39;00m \u001b[38;5;28mself\u001b[39m\u001b[38;5;241m.\u001b[39mcache:\n\u001b[1;32m---> 75\u001b[0m         \u001b[38;5;28mself\u001b[39m\u001b[38;5;241m.\u001b[39mdata \u001b[38;5;241m=\u001b[39m \u001b[43mload_cached\u001b[49m\u001b[43m(\u001b[49m\n\u001b[0;32m     76\u001b[0m \u001b[43m            \u001b[49m\u001b[38;5;28;43mself\u001b[39;49m\u001b[38;5;241;43m.\u001b[39;49m\u001b[43mpath\u001b[49m\u001b[43m,\u001b[49m\n\u001b[0;32m     77\u001b[0m \u001b[43m            \u001b[49m\u001b[43muse_cache_server\u001b[49m\u001b[38;5;241;43m=\u001b[39;49m\u001b[38;5;28;43mself\u001b[39;49m\u001b[38;5;241;43m.\u001b[39;49m\u001b[43muse_cache_server\u001b[49m\u001b[43m,\u001b[49m\n\u001b[0;32m     78\u001b[0m \u001b[43m            \u001b[49m\u001b[43mverify_ssl\u001b[49m\u001b[38;5;241;43m=\u001b[39;49m\u001b[38;5;28;43mself\u001b[39;49m\u001b[38;5;241;43m.\u001b[39;49m\u001b[43mverify_ssl\u001b[49m\u001b[43m,\u001b[49m\n\u001b[0;32m     79\u001b[0m \u001b[43m        \u001b[49m\u001b[43m)\u001b[49m\n\u001b[0;32m     80\u001b[0m     \u001b[38;5;28;01melse\u001b[39;00m:\n\u001b[0;32m     81\u001b[0m         \u001b[38;5;28mself\u001b[39m\u001b[38;5;241m.\u001b[39mdata \u001b[38;5;241m=\u001b[39m load(\n\u001b[0;32m     82\u001b[0m             use_cache_server\u001b[38;5;241m=\u001b[39m\u001b[38;5;28mself\u001b[39m\u001b[38;5;241m.\u001b[39muse_cache_server,\n\u001b[0;32m     83\u001b[0m             verify_ssl\u001b[38;5;241m=\u001b[39m\u001b[38;5;28mself\u001b[39m\u001b[38;5;241m.\u001b[39mverify_ssl,\n\u001b[0;32m     84\u001b[0m         )\n",
      "File \u001b[1;32m~\\anaconda3\\lib\\site-packages\\fake_useragent\\utils.py:250\u001b[0m, in \u001b[0;36mload_cached\u001b[1;34m(path, use_cache_server, verify_ssl)\u001b[0m\n\u001b[0;32m    248\u001b[0m \u001b[38;5;28;01mdef\u001b[39;00m \u001b[38;5;21mload_cached\u001b[39m(path, use_cache_server\u001b[38;5;241m=\u001b[39m\u001b[38;5;28;01mTrue\u001b[39;00m, verify_ssl\u001b[38;5;241m=\u001b[39m\u001b[38;5;28;01mTrue\u001b[39;00m):\n\u001b[0;32m    249\u001b[0m     \u001b[38;5;28;01mif\u001b[39;00m \u001b[38;5;129;01mnot\u001b[39;00m exist(path):\n\u001b[1;32m--> 250\u001b[0m         \u001b[43mupdate\u001b[49m\u001b[43m(\u001b[49m\u001b[43mpath\u001b[49m\u001b[43m,\u001b[49m\u001b[43m \u001b[49m\u001b[43muse_cache_server\u001b[49m\u001b[38;5;241;43m=\u001b[39;49m\u001b[43muse_cache_server\u001b[49m\u001b[43m,\u001b[49m\u001b[43m \u001b[49m\u001b[43mverify_ssl\u001b[49m\u001b[38;5;241;43m=\u001b[39;49m\u001b[43mverify_ssl\u001b[49m\u001b[43m)\u001b[49m\n\u001b[0;32m    252\u001b[0m     \u001b[38;5;28;01mreturn\u001b[39;00m read(path)\n",
      "File \u001b[1;32m~\\anaconda3\\lib\\site-packages\\fake_useragent\\utils.py:245\u001b[0m, in \u001b[0;36mupdate\u001b[1;34m(path, use_cache_server, verify_ssl)\u001b[0m\n\u001b[0;32m    242\u001b[0m \u001b[38;5;28;01mdef\u001b[39;00m \u001b[38;5;21mupdate\u001b[39m(path, use_cache_server\u001b[38;5;241m=\u001b[39m\u001b[38;5;28;01mTrue\u001b[39;00m, verify_ssl\u001b[38;5;241m=\u001b[39m\u001b[38;5;28;01mTrue\u001b[39;00m):\n\u001b[0;32m    243\u001b[0m     rm(path)\n\u001b[1;32m--> 245\u001b[0m     write(path, \u001b[43mload\u001b[49m\u001b[43m(\u001b[49m\u001b[43muse_cache_server\u001b[49m\u001b[38;5;241;43m=\u001b[39;49m\u001b[43muse_cache_server\u001b[49m\u001b[43m,\u001b[49m\u001b[43m \u001b[49m\u001b[43mverify_ssl\u001b[49m\u001b[38;5;241;43m=\u001b[39;49m\u001b[43mverify_ssl\u001b[49m\u001b[43m)\u001b[49m)\n",
      "File \u001b[1;32m~\\anaconda3\\lib\\site-packages\\fake_useragent\\utils.py:187\u001b[0m, in \u001b[0;36mload\u001b[1;34m(use_cache_server, verify_ssl)\u001b[0m\n\u001b[0;32m    180\u001b[0m logger\u001b[38;5;241m.\u001b[39mwarning(\n\u001b[0;32m    181\u001b[0m     \u001b[38;5;124m'\u001b[39m\u001b[38;5;124mError occurred during loading data. \u001b[39m\u001b[38;5;124m'\u001b[39m\n\u001b[0;32m    182\u001b[0m     \u001b[38;5;124m'\u001b[39m\u001b[38;5;124mTrying to use cache server \u001b[39m\u001b[38;5;132;01m%s\u001b[39;00m\u001b[38;5;124m'\u001b[39m,\n\u001b[0;32m    183\u001b[0m     settings\u001b[38;5;241m.\u001b[39mCACHE_SERVER,\n\u001b[0;32m    184\u001b[0m     exc_info\u001b[38;5;241m=\u001b[39mexc,\n\u001b[0;32m    185\u001b[0m )\n\u001b[0;32m    186\u001b[0m \u001b[38;5;28;01mtry\u001b[39;00m:\n\u001b[1;32m--> 187\u001b[0m     ret \u001b[38;5;241m=\u001b[39m json\u001b[38;5;241m.\u001b[39mloads(\u001b[43mget\u001b[49m\u001b[43m(\u001b[49m\n\u001b[0;32m    188\u001b[0m \u001b[43m        \u001b[49m\u001b[43msettings\u001b[49m\u001b[38;5;241;43m.\u001b[39;49m\u001b[43mCACHE_SERVER\u001b[49m\u001b[43m,\u001b[49m\n\u001b[0;32m    189\u001b[0m \u001b[43m        \u001b[49m\u001b[43mverify_ssl\u001b[49m\u001b[38;5;241;43m=\u001b[39;49m\u001b[43mverify_ssl\u001b[49m\u001b[43m,\u001b[49m\n\u001b[0;32m    190\u001b[0m \u001b[43m    \u001b[49m\u001b[43m)\u001b[49m\u001b[38;5;241m.\u001b[39mdecode(\u001b[38;5;124m'\u001b[39m\u001b[38;5;124mutf-8\u001b[39m\u001b[38;5;124m'\u001b[39m))\n\u001b[0;32m    191\u001b[0m \u001b[38;5;28;01mexcept\u001b[39;00m (\u001b[38;5;167;01mTypeError\u001b[39;00m, \u001b[38;5;167;01mValueError\u001b[39;00m):\n\u001b[0;32m    192\u001b[0m     \u001b[38;5;28;01mraise\u001b[39;00m FakeUserAgentError(\u001b[38;5;124m'\u001b[39m\u001b[38;5;124mCan not load data from cache server\u001b[39m\u001b[38;5;124m'\u001b[39m)\n",
      "File \u001b[1;32m~\\anaconda3\\lib\\site-packages\\fake_useragent\\utils.py:84\u001b[0m, in \u001b[0;36mget\u001b[1;34m(url, verify_ssl)\u001b[0m\n\u001b[0;32m     77\u001b[0m logger\u001b[38;5;241m.\u001b[39mdebug(\n\u001b[0;32m     78\u001b[0m     \u001b[38;5;124m'\u001b[39m\u001b[38;5;124mError occurred during fetching \u001b[39m\u001b[38;5;132;01m%s\u001b[39;00m\u001b[38;5;124m'\u001b[39m,\n\u001b[0;32m     79\u001b[0m     url,\n\u001b[0;32m     80\u001b[0m     exc_info\u001b[38;5;241m=\u001b[39mexc,\n\u001b[0;32m     81\u001b[0m )\n\u001b[0;32m     83\u001b[0m \u001b[38;5;28;01mif\u001b[39;00m attempt \u001b[38;5;241m==\u001b[39m settings\u001b[38;5;241m.\u001b[39mHTTP_RETRIES:\n\u001b[1;32m---> 84\u001b[0m     \u001b[38;5;28;01mraise\u001b[39;00m FakeUserAgentError(\u001b[38;5;124m'\u001b[39m\u001b[38;5;124mMaximum amount of retries reached\u001b[39m\u001b[38;5;124m'\u001b[39m)\n\u001b[0;32m     85\u001b[0m \u001b[38;5;28;01melse\u001b[39;00m:\n\u001b[0;32m     86\u001b[0m     logger\u001b[38;5;241m.\u001b[39mdebug(\n\u001b[0;32m     87\u001b[0m         \u001b[38;5;124m'\u001b[39m\u001b[38;5;124mSleeping for \u001b[39m\u001b[38;5;132;01m%s\u001b[39;00m\u001b[38;5;124m seconds\u001b[39m\u001b[38;5;124m'\u001b[39m,\n\u001b[0;32m     88\u001b[0m         settings\u001b[38;5;241m.\u001b[39mHTTP_DELAY,\n\u001b[0;32m     89\u001b[0m     )\n",
      "\u001b[1;31mFakeUserAgentError\u001b[0m: Maximum amount of retries reached"
     ]
    }
   ],
   "source": [
    "from scholarly import ProxyGenerator\n",
    "\n",
    "# Set up a ProxyGenerator object to use free proxies\n",
    "# This needs to be done only once per session\n",
    "pg = ProxyGenerator()\n",
    "pg.FreeProxies()\n",
    "scholarly.use_proxy(pg)\n",
    "\n",
    "from scholarly import scholarly"
   ]
  },
  {
   "cell_type": "code",
   "execution_count": null,
   "id": "42ac9d11",
   "metadata": {
    "ExecuteTime": {
     "start_time": "2023-05-06T19:26:55.879Z"
    }
   },
   "outputs": [],
   "source": [
    "DEE = list(['Adolfo Fernandes Herbster',\n",
    "       'Alexandre Cunha Oliveira', \n",
    "       'Alexandre Jean René Serres', \n",
    "       'André Germano Dantas',\n",
    "       'Angelo Perkusich',\n",
    "       'Antônio do Nascimento Epaminondas',\n",
    "       'Antonio M.N. Lima',\n",
    "       'Benemar Alencar de Souza',\n",
    "       'Bruno Barbosa Albert',       \n",
    "       'Célio Anésio da Silva',\n",
    "       'Cursino Brandão Jacobina',\n",
    "       'Damásio Fernandes Júnior',\n",
    "       'Danilo Freire de Souza Santos',\n",
    "       'Edgar Roosevelt Braga Filho',\n",
    "       'Edmar Candeia Gurjão',\n",
    "       'Edson Guedes da Costa',\n",
    "        'Edson Porto da Silva',\n",
    "        'Fernanda Cecília Correia Lima Loureiro',\n",
    "        'Francisco das Chagas Fernandes Guerra',\n",
    "        'Francisco Marcos de Assis',\n",
    "        'George Acioli Júnior',\n",
    "        'George Rossany Soares de Lira',\n",
    "        'Glauco Fontgalland',\n",
    "        'Gutemberg Gonçalves dos Santos Júnior',\n",
    "        'Helder A Pereira',\n",
    "        'Jaidilson Jó da Silva',\n",
    "        'Jalberth Fernandes de Araújo',\n",
    "        'João Batista Morais dos Santos',\n",
    "        'José Ewerton Pombo de Farias',\n",
    "        'José Gutembergue de Assis Lira',\n",
    "        'José Sérgio da Rocha Neto',\n",
    "        'Karcius Marcelus Colaço Dantas',\n",
    "        'Leimar de Oliveira',\n",
    "        'Leocarlos Bezerra da Silva Lima',\n",
    "        'Luciana Ribeiro Veloso',\n",
    "        'Luis Reyes Rosales Montero',\n",
    "        'Luiz Augusto Medeiros Martins Nóbrega',\n",
    "        'Marcos Ricardo Alcântara Morais',\n",
    "        'Mário de Sousa Araújo Filho',\n",
    "        'Maurício Beltrão de Rossiter Correa',\n",
    "        'Montiê Alves Vitorino',\n",
    "        'Núbia Silva Dantas Brito',\n",
    "        'Pablo Bezerra Vilar',\n",
    "        'Péricles Rezende Barros',\n",
    "        'Raimundo Carlos Silvério Freire',\n",
    "        'Rafael Bezerra Correia Lima',\n",
    "        'Raquel Aline Araújo Rodrigues',\n",
    "        'Roberto Silva de Siqueira',\n",
    "        'Rômulo Raimundo Maranhão do Valle',\n",
    "        'Ronimack Trajano de Souza',\n",
    "        'Saulo Oliveira Dornellas Luiz',\n",
    "        'Talvanes Meneses de Oliveira',\n",
    "        'Washington Luiz Araújo Neves',\n",
    "        'Wamberto José Lira de Queiroz'])"
   ]
  },
  {
   "cell_type": "code",
   "execution_count": null,
   "id": "9a73cc72",
   "metadata": {
    "ExecuteTime": {
     "start_time": "2023-05-06T19:26:55.881Z"
    }
   },
   "outputs": [],
   "source": [
    "df = pd.DataFrame(columns=['name', 'citations', 'h-index'])\n",
    "\n",
    "for name in tqdm(DEE):\n",
    "    try:\n",
    "        search_query = scholarly.search_author(name)\n",
    "        author = scholarly.fill(next(search_query))\n",
    "#         print(author['name']+' citations: '+ str(author['citedby'])+' h-index: '+ str(author['hindex']))\n",
    "        df.loc[-1] =  [name, author['citedby'], author['hindex']]\n",
    "        df.index = df.index + 1  # shifting index\n",
    "        df = df.sort_index()  # sorting by index\n",
    "    except:\n",
    "        df.loc[-1] =  [name, 0, 0]\n",
    "        df.index = df.index + 1  # shifting index\n",
    "        df = df.sort_index()  # sorting by index\n",
    "        \n",
    "df = df[::-1].reset_index(drop=True)"
   ]
  },
  {
   "cell_type": "code",
   "execution_count": null,
   "id": "b2ca0af6",
   "metadata": {
    "ExecuteTime": {
     "start_time": "2023-05-06T19:26:55.882Z"
    }
   },
   "outputs": [],
   "source": [
    "df.sort_values('h-index', ascending=False)[::1].reset_index(drop=True)"
   ]
  },
  {
   "cell_type": "code",
   "execution_count": null,
   "id": "ab2f0282",
   "metadata": {
    "ExecuteTime": {
     "start_time": "2023-05-06T19:26:55.883Z"
    }
   },
   "outputs": [],
   "source": [
    "df"
   ]
  },
  {
   "cell_type": "code",
   "execution_count": null,
   "id": "355ed741",
   "metadata": {
    "ExecuteTime": {
     "start_time": "2023-05-06T19:26:55.884Z"
    }
   },
   "outputs": [],
   "source": [
    "scholarly.search_org('Federal University of Campina Grande')"
   ]
  },
  {
   "cell_type": "code",
   "execution_count": null,
   "id": "008f3c46",
   "metadata": {
    "ExecuteTime": {
     "start_time": "2023-05-06T19:26:55.885Z"
    }
   },
   "outputs": [],
   "source": [
    "search_query = scholarly.search_author_by_organization(17170101166133751793)\n",
    "author = next(search_query)"
   ]
  },
  {
   "cell_type": "code",
   "execution_count": null,
   "id": "f3429425",
   "metadata": {
    "ExecuteTime": {
     "start_time": "2023-05-06T19:26:55.886Z"
    }
   },
   "outputs": [],
   "source": [
    "for ind in range(500):\n",
    "    author = next(search_query)\n",
    "    print(author['name']+' citations: '+ str(author['citedby']))"
   ]
  },
  {
   "cell_type": "code",
   "execution_count": null,
   "id": "a8fc1d48",
   "metadata": {
    "ExecuteTime": {
     "start_time": "2023-05-06T19:26:55.887Z"
    }
   },
   "outputs": [],
   "source": [
    "author"
   ]
  },
  {
   "cell_type": "code",
   "execution_count": null,
   "id": "03596868",
   "metadata": {},
   "outputs": [],
   "source": []
  }
 ],
 "metadata": {
  "kernelspec": {
   "display_name": "Python 3 (ipykernel)",
   "language": "python",
   "name": "python3"
  },
  "language_info": {
   "codemirror_mode": {
    "name": "ipython",
    "version": 3
   },
   "file_extension": ".py",
   "mimetype": "text/x-python",
   "name": "python",
   "nbconvert_exporter": "python",
   "pygments_lexer": "ipython3",
   "version": "3.9.12"
  },
  "toc": {
   "base_numbering": 1,
   "nav_menu": {},
   "number_sections": true,
   "sideBar": true,
   "skip_h1_title": false,
   "title_cell": "Table of Contents",
   "title_sidebar": "Contents",
   "toc_cell": false,
   "toc_position": {},
   "toc_section_display": true,
   "toc_window_display": false
  }
 },
 "nbformat": 4,
 "nbformat_minor": 5
}
